{
 "cells": [
  {
   "cell_type": "markdown",
   "metadata": {},
   "source": [
    "# Nivell 1\n",
    "## - Exercici 1\n",
    "L'exercici consisteix a crear un programa que et classifiqui una variable numèrica en funció de l’escala Suspès/Aprovat/Notable/Excel·lent."
   ]
  },
  {
   "cell_type": "code",
   "execution_count": 63,
   "metadata": {},
   "outputs": [
    {
     "name": "stdout",
     "output_type": "stream",
     "text": [
      "La nota en text es: Suspes\n"
     ]
    }
   ],
   "source": [
    "#funcio converteix de numeric a text\n",
    "def numeric2text(nota):\n",
    "    if nota < 0  or nota > 10:\n",
    "        return \"Nota no valida\"\n",
    "    elif nota < 5:\n",
    "        return \"Suspes\"\n",
    "    elif nota < 7:\n",
    "        return \"Aprovat\"\n",
    "    elif nota < 9:\n",
    "        return \"Notable\"\n",
    "    else:\n",
    "        return \"Excel-lent\"\n",
    "#Demanem la nota per pantalla, per evitar confusion cambiem la , per . aixis sempres es valida la entrada\n",
    "while(True):\n",
    "    try:\n",
    "        nota= float (input(\"Introdueix la nota numerica: \").replace(\",\",\".\"))\n",
    "        break;\n",
    "    except ValueError:\n",
    "        print (\"No es un valor numeric valid torna ho a intentar\")\n",
    "\n",
    "\n",
    "print(f'La nota en text es: {numeric2text(nota)}')"
   ]
  },
  {
   "cell_type": "markdown",
   "metadata": {},
   "source": [
    "## - Exercici 2\n",
    "Utilitzant el següent tutorial Programiz: Python Input, Output and Import crea un programa que et pregunti dos números. T’ha de mostrar un missatge dient si el primer és més gran, el segon és més gran o són iguals."
   ]
  },
  {
   "cell_type": "code",
   "execution_count": 2,
   "metadata": {},
   "outputs": [
    {
     "name": "stdout",
     "output_type": "stream",
     "text": [
      "5.0 es més gran que 3.0\n"
     ]
    }
   ],
   "source": [
    "def getNumber(id):\n",
    "    while True:\n",
    "        try:\n",
    "            return float(input(f\"introdueix el numero {id}:\"))\n",
    "        except ValueError:\n",
    "            print (\"No es un valor numeric valid torna ho a intentar\")\n",
    "            \n",
    "\n",
    "def menorMajorIgula():\n",
    "    numeroA=getNumber(\"A\")\n",
    "    numeroB=getNumber(\"B\")\n",
    "    if numeroA == numeroB:\n",
    "        print(f\"{numeroA} i {numeroB} son iguals\")\n",
    "    if numeroA > numeroB:\n",
    "        print(f\"{numeroA} es més gran que {numeroB}\")\n",
    "    else:\n",
    "        print(f\"{numeroB} es més gran que {numeroA}\")\n",
    "    \n",
    "menorMajorIgula()\n",
    "        \n",
    "    \n"
   ]
  },
  {
   "cell_type": "markdown",
   "metadata": {},
   "source": [
    "\n",
    "## - Exercici 3\n",
    "Crea un programa que et pregunti el teu nom, i et demani un número. Si el número és 0, hauria de mostrar un missatge d’error. En cas contrari, hauria de mostrar el nom repetit tants cops com indiqui el número. Per exemple, “Joan Joan Joan”.()\n",
    "\n"
   ]
  },
  {
   "cell_type": "code",
   "execution_count": 30,
   "metadata": {},
   "outputs": [
    {
     "name": "stdout",
     "output_type": "stream",
     "text": [
      "marc\n",
      "marc\n",
      "marc\n",
      "\n"
     ]
    }
   ],
   "source": [
    "nom=input(f\"introdueix el teu nom\")\n",
    "num_repeticion=0\n",
    "while True:\n",
    "    try:\n",
    "        num_repeticion=int(input(f\"introdueix el numero {id}:\"))\n",
    "        break;\n",
    "    except ValueError:\n",
    "        print (\"No es un valor numeric valid torna ho a intentar\")\n",
    "if num_repeticion > 0:\n",
    "    print(f\"{nom}\\n\" * num_repeticion)\n",
    "else:\n",
    "    print(f\"No puc mostrar {num_repeticion} vegades el teu nom\")"
   ]
  },
  {
   "cell_type": "markdown",
   "metadata": {},
   "source": [
    "## - Exercici 4\n",
    "Crea un programa que donada una llista qualsevol, et digui si es simètrica o no. Si ho és, que et digui quants elements té."
   ]
  },
  {
   "cell_type": "code",
   "execution_count": 62,
   "metadata": {},
   "outputs": [
    {
     "name": "stdout",
     "output_type": "stream",
     "text": [
      "La llista [3, 2, 4, 3, 5, 4] no es Simetrica\n",
      "La llista [3, 2, 4, 4, 2] no es Simetrica\n",
      "La llista [3, 2, 4, 4, 2, 3] es Simetrica\n",
      "La llista [3, 2, 3] es Simetrica\n"
     ]
    }
   ],
   "source": [
    "lnosym=[3,2,4,3,5,4]\n",
    "lnosym2=[3,2,4,4,2]\n",
    "lsym=[3,2,4,4,2,3]\n",
    "lsym2=[3,2,3]\n",
    "\n",
    "def symmetric(llista):\n",
    "    if all([ i==j for i,j in zip(llista ,llista[::-1])] ):\n",
    "        print(f\"La llista {llista} es Simetrica\")\n",
    "    else:\n",
    "        print(f\"La llista {llista} no es Simetrica\")\n",
    "\n",
    "symmetric(lnosym)\n",
    "symmetric(lnosym2)\n",
    "symmetric(lsym)\n",
    "symmetric(lsym2)"
   ]
  },
  {
   "cell_type": "markdown",
   "metadata": {},
   "source": [
    "## - Exercici 5\n",
    "Crea un programa que donada una llista, et digui quants números coincideixen amb la seva posició. Per exemple [3,4,2,0,2,3,6] el 2 i el 6 coincideixen."
   ]
  },
  {
   "cell_type": "code",
   "execution_count": 70,
   "metadata": {},
   "outputs": [
    {
     "name": "stdout",
     "output_type": "stream",
     "text": [
      "la llista de coincidents [2, 6]\n"
     ]
    }
   ],
   "source": [
    "def coincidents(llista):\n",
    "    return [valor for pos,valor in enumerate(llista) if pos == valor ]\n",
    "\n",
    "llista=[3,4,2,0,2,3,6]\n",
    "print(f\"la llista de coincidents {coincidents(llista)}\")\n"
   ]
  }
 ],
 "metadata": {
  "interpreter": {
   "hash": "e7370f93d1d0cde622a1f8e1c04877d8463912d04d973331ad4851f04de6915a"
  },
  "kernelspec": {
   "display_name": "Python 3.9.7 64-bit",
   "name": "python3"
  },
  "language_info": {
   "codemirror_mode": {
    "name": "ipython",
    "version": 3
   },
   "file_extension": ".py",
   "mimetype": "text/x-python",
   "name": "python",
   "nbconvert_exporter": "python",
   "pygments_lexer": "ipython3",
   "version": "3.10.0"
  },
  "orig_nbformat": 4
 },
 "nbformat": 4,
 "nbformat_minor": 2
}
